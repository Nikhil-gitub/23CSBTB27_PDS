{
  "nbformat": 4,
  "nbformat_minor": 0,
  "metadata": {
    "colab": {
      "provenance": [],
      "authorship_tag": "ABX9TyP3atnpFcZ6RSSceTIvuMCz",
      "include_colab_link": true
    },
    "kernelspec": {
      "name": "python3",
      "display_name": "Python 3"
    },
    "language_info": {
      "name": "python"
    }
  },
  "cells": [
    {
      "cell_type": "markdown",
      "metadata": {
        "id": "view-in-github",
        "colab_type": "text"
      },
      "source": [
        "<a href=\"https://colab.research.google.com/github/Nikhil-gitub/23CSBTB27_PDS/blob/main/Lab05_PDS.ipynb\" target=\"_parent\"><img src=\"https://colab.research.google.com/assets/colab-badge.svg\" alt=\"Open In Colab\"/></a>"
      ]
    },
    {
      "cell_type": "code",
      "execution_count": 1,
      "metadata": {
        "colab": {
          "base_uri": "https://localhost:8080/"
        },
        "id": "rbJq7TGZ9cBf",
        "outputId": "cb8021ce-51b1-49d3-8d8b-8416f4cb77cd"
      },
      "outputs": [
        {
          "output_type": "stream",
          "name": "stdout",
          "text": [
            "Merged:\n",
            "    transaction_id  customer_id  amount     name         city\n",
            "0             101            1     250    Alice     New York\n",
            "1             102            2     300      Bob  Los Angeles\n",
            "2             103            1     150    Alice     New York\n",
            "3             104            3     400  Charlie     New York\n",
            "4             105            4     200    David      Chicago\n",
            "5             106            2     350      Bob  Los Angeles\n",
            "6             107            5     500      Eva  Los Angeles\n",
            "\n",
            "Customer Spend:\n",
            "    customer_id     name  amount\n",
            "0            1    Alice     400\n",
            "1            2      Bob     650\n",
            "2            3  Charlie     400\n",
            "3            4    David     200\n",
            "4            5      Eva     500\n",
            "\n",
            "City Spend:\n",
            "           city  amount\n",
            "0      Chicago     200\n",
            "1  Los Angeles    1150\n",
            "2     New York     800\n",
            "\n",
            "Top Spender:\n",
            " customer_id      2\n",
            "name           Bob\n",
            "amount         650\n",
            "Name: 1, dtype: object\n"
          ]
        }
      ],
      "source": [
        "import pandas as pd\n",
        "\n",
        "# Customers\n",
        "customers = pd.DataFrame({\n",
        "    'customer_id': [1,2,3,4,5],\n",
        "    'name': ['Alice','Bob','Charlie','David','Eva'],\n",
        "    'city': ['New York','Los Angeles','New York','Chicago','Los Angeles']\n",
        "})\n",
        "\n",
        "# Transactions\n",
        "transactions = pd.DataFrame({\n",
        "    'transaction_id': [101,102,103,104,105,106,107],\n",
        "    'customer_id': [1,2,1,3,4,2,5],\n",
        "    'amount': [250,300,150,400,200,350,500]\n",
        "})\n",
        "\n",
        "# Merge\n",
        "merged = pd.merge(transactions, customers, on='customer_id')\n",
        "\n",
        "# Spend per customer\n",
        "customer_spend = merged.groupby(['customer_id','name'])['amount'].sum().reset_index()\n",
        "\n",
        "# Spend per city\n",
        "city_spend = merged.groupby('city')['amount'].sum().reset_index()\n",
        "\n",
        "# Top spender\n",
        "top_spender = customer_spend.loc[customer_spend['amount'].idxmax()]\n",
        "\n",
        "print(\"Merged:\\n\", merged)\n",
        "print(\"\\nCustomer Spend:\\n\", customer_spend)\n",
        "print(\"\\nCity Spend:\\n\", city_spend)\n",
        "print(\"\\nTop Spender:\\n\", top_spender)\n"
      ]
    },
    {
      "cell_type": "code",
      "source": [
        "import pandas as pd\n",
        "\n",
        "# Patients dataset\n",
        "patients = pd.DataFrame({\n",
        "    'patient_id':[1,2,3,4,5],\n",
        "    'name':['Alice','Bob','Charlie','David','Eva'],\n",
        "    'age':[29,34,42,50,37]\n",
        "})\n",
        "\n",
        "# Appointments dataset\n",
        "appointments = pd.DataFrame({\n",
        "    'appointment_id':[101,102,103,104,105,106,107,108],\n",
        "    'patient_id':[1,2,1,3,4,2,5,3],\n",
        "    'doctor':['Dr. Smith','Dr. Lee','Dr. Smith','Dr. Lee',\n",
        "              'Dr. Brown','Dr. Lee','Dr. Smith','Dr. Brown']\n",
        "})\n",
        "\n",
        "# Merge\n",
        "merged = pd.merge(appointments, patients, on='patient_id')\n",
        "\n",
        "# Appointments per patient\n",
        "patient_visits = merged.groupby(['patient_id','name']).size().reset_index(name='visits')\n",
        "\n",
        "# Workload per doctor\n",
        "doctor_workload = merged.groupby('doctor').size().reset_index(name='appointments')\n",
        "\n",
        "# Top patient\n",
        "top_patient = patient_visits.loc[patient_visits['visits'].idxmax()]\n",
        "\n",
        "print(\"Patient Visits:\\n\", patient_visits)\n",
        "print(\"\\nDoctor Workload:\\n\", doctor_workload)\n",
        "print(\"\\nTop Patient:\\n\", top_patient)\n",
        "\n",
        "# Insights\n",
        "print(f\"\\nInsights:\\n- {top_patient['name']} visited most with {top_patient['visits']} visits.\")\n",
        "print(f\"- {doctor_workload.loc[doctor_workload['appointments'].idxmax(),'doctor']} handled the highest workload.\")\n"
      ],
      "metadata": {
        "colab": {
          "base_uri": "https://localhost:8080/"
        },
        "id": "BSENBbwE-QDL",
        "outputId": "66e9845e-c3e4-48c2-cfd3-8cf113ebc480"
      },
      "execution_count": 3,
      "outputs": [
        {
          "output_type": "stream",
          "name": "stdout",
          "text": [
            "Patient Visits:\n",
            "    patient_id     name  visits\n",
            "0           1    Alice       2\n",
            "1           2      Bob       2\n",
            "2           3  Charlie       2\n",
            "3           4    David       1\n",
            "4           5      Eva       1\n",
            "\n",
            "Doctor Workload:\n",
            "       doctor  appointments\n",
            "0  Dr. Brown             2\n",
            "1    Dr. Lee             3\n",
            "2  Dr. Smith             3\n",
            "\n",
            "Top Patient:\n",
            " patient_id        1\n",
            "name          Alice\n",
            "visits            2\n",
            "Name: 0, dtype: object\n",
            "\n",
            "Insights:\n",
            "- Alice visited most with 2 visits.\n",
            "- Dr. Lee handled the highest workload.\n"
          ]
        }
      ]
    }
  ]
}