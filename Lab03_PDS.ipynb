{
  "nbformat": 4,
  "nbformat_minor": 0,
  "metadata": {
    "colab": {
      "provenance": [],
      "authorship_tag": "ABX9TyOpNwaXddKkEgznFP+/N4rg",
      "include_colab_link": true
    },
    "kernelspec": {
      "name": "python3",
      "display_name": "Python 3"
    },
    "language_info": {
      "name": "python"
    }
  },
  "cells": [
    {
      "cell_type": "markdown",
      "metadata": {
        "id": "view-in-github",
        "colab_type": "text"
      },
      "source": [
        "<a href=\"https://colab.research.google.com/github/Nikhil-gitub/23CSBTB27_PDS/blob/main/Lab03_PDS.ipynb\" target=\"_parent\"><img src=\"https://colab.research.google.com/assets/colab-badge.svg\" alt=\"Open In Colab\"/></a>"
      ]
    },
    {
      "cell_type": "code",
      "execution_count": 1,
      "metadata": {
        "colab": {
          "base_uri": "https://localhost:8080/"
        },
        "id": "kVcuUmCE-bXC",
        "outputId": "552f8e80-b711-45af-a0ac-b17807752b43"
      },
      "outputs": [
        {
          "output_type": "stream",
          "name": "stdout",
          "text": [
            "2D Array A:\n",
            " [[1 2 3]\n",
            " [4 5 6]\n",
            " [7 8 9]]\n",
            "1D Array B:\n",
            " [10 20 30]\n",
            "A + B (Broadcasting result):\n",
            " [[11 22 33]\n",
            " [14 25 36]\n",
            " [17 28 39]]\n",
            "Shape of A: (3, 3) Shape of B: (3,) Shape of Result: (3, 3)\n",
            "3D Array X:\n",
            " [[[ 0  1  2]\n",
            "  [ 3  4  5]]\n",
            "\n",
            " [[ 6  7  8]\n",
            "  [ 9 10 11]]]\n",
            "X + scalar (5):\n",
            " [[[ 5  6  7]\n",
            "  [ 8  9 10]]\n",
            "\n",
            " [[11 12 13]\n",
            "  [14 15 16]]]\n",
            "Shape of X: (2, 2, 3) Shape of scalar: () Result Shape: (2, 2, 3)\n",
            "Array D: [1 2] Shape: (2,)\n",
            "Reshaped D:\n",
            " [[1]\n",
            " [2]] Shape: (2, 1)\n",
            "Array E:\n",
            " [[10 20 30]\n",
            " [40 50 60]] Shape: (2, 3)\n",
            "Broadcasted (D reshaped + E):\n",
            " [[11 21 31]\n",
            " [42 52 62]]\n",
            "Shapes: D_reshaped: (2, 1) E: (2, 3) Result: (2, 3)\n",
            "Invalid broadcasting error: operands could not be broadcast together with shapes (3,3) (4,) \n"
          ]
        }
      ],
      "source": [
        "import numpy as np\n",
        "\n",
        "\n",
        "A = np.array([[1, 2, 3],\n",
        "              [4, 5, 6],\n",
        "              [7, 8, 9]])\n",
        "\n",
        "B = np.array([10, 20, 30])\n",
        "\n",
        "print(\"2D Array A:\\n\", A)\n",
        "print(\"1D Array B:\\n\", B)\n",
        "\n",
        "\n",
        "C = A + B\n",
        "print(\"A + B (Broadcasting result):\\n\", C)\n",
        "print(\"Shape of A:\", A.shape, \"Shape of B:\", B.shape, \"Shape of Result:\", C.shape)\n",
        "\n",
        "\n",
        "X = np.arange(12).reshape(2,2,3)\n",
        "print(\"3D Array X:\\n\", X)\n",
        "\n",
        "scalar = 5\n",
        "Y = X + scalar\n",
        "print(\"X + scalar (5):\\n\", Y)\n",
        "print(\"Shape of X:\", X.shape, \"Shape of scalar: ()\", \"Result Shape:\", Y.shape)\n",
        "\n",
        "\n",
        "D = np.array([1, 2])\n",
        "print(\"Array D:\", D, \"Shape:\", D.shape)\n",
        "\n",
        "\n",
        "D_reshaped = D[:, np.newaxis]\n",
        "print(\"Reshaped D:\\n\", D_reshaped, \"Shape:\", D_reshaped.shape)\n",
        "\n",
        "E = np.array([[10, 20, 30],\n",
        "              [40, 50, 60]])\n",
        "\n",
        "print(\"Array E:\\n\", E, \"Shape:\", E.shape)\n",
        "\n",
        "F = D_reshaped + E\n",
        "print(\"Broadcasted (D reshaped + E):\\n\", F)\n",
        "print(\"Shapes: D_reshaped:\", D_reshaped.shape, \"E:\", E.shape, \"Result:\", F.shape)\n",
        "\n",
        "\n",
        "G = np.array([1, 2, 3, 4])\n",
        "\n",
        "try:\n",
        "    invalid = A + G\n",
        "except ValueError as e:\n",
        "    print(\"Invalid broadcasting error:\", e)\n"
      ]
    }
  ]
}